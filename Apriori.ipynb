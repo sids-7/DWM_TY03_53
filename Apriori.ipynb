{
  "nbformat": 4,
  "nbformat_minor": 0,
  "metadata": {
    "colab": {
      "provenance": []
    },
    "kernelspec": {
      "name": "python3",
      "display_name": "Python 3"
    },
    "language_info": {
      "name": "python"
    }
  },
  "cells": [
    {
      "cell_type": "code",
      "execution_count": 1,
      "metadata": {
        "colab": {
          "base_uri": "https://localhost:8080/"
        },
        "id": "_grh9L3QKU-T",
        "outputId": "fc97e567-d283-4694-c290-118eec6ef555"
      },
      "outputs": [
        {
          "output_type": "stream",
          "name": "stdout",
          "text": [
            "[{'milk': 4, 'bread': 5, 'butter': 5}, {('milk', 'bread'): 3, ('milk', 'butter'): 3, ('bread', 'butter'): 4}]\n"
          ]
        }
      ],
      "source": [
        "from itertools import combinations\n",
        "\n",
        "# Function to get frequent itemsets based on minimum support\n",
        "def get_frequent_itemsets(transactions, min_support):\n",
        "    itemsets = {}\n",
        "    for transaction in transactions:\n",
        "        for item in transaction:\n",
        "            if item in itemsets:\n",
        "                itemsets[item] += 1\n",
        "            else:\n",
        "                itemsets[item] = 1\n",
        "\n",
        "    # Filter itemsets to only include those that meet or exceed the minimum support\n",
        "    frequent_itemsets = {item: support for item, support in itemsets.items() if support >= min_support}\n",
        "    return frequent_itemsets\n",
        "\n",
        "# Function to generate candidate itemsets of size k\n",
        "def get_candidate_itemsets(frequent_itemsets, k):\n",
        "    candidates = []\n",
        "    frequent_items = list(frequent_itemsets.keys())\n",
        "    for combination in combinations(frequent_items, k):\n",
        "        candidates.append(combination)\n",
        "    return candidates\n",
        "\n",
        "# Apriori algorithm to find all frequent itemsets\n",
        "def apriori(transactions, min_support):\n",
        "    k = 1\n",
        "    # Initial set of frequent itemsets\n",
        "    frequent_itemsets = get_frequent_itemsets(transactions, min_support)\n",
        "    all_frequent_itemsets = [frequent_itemsets]\n",
        "\n",
        "    # Iterate to find larger itemsets\n",
        "    while frequent_itemsets:\n",
        "        k += 1\n",
        "        # Generate candidate itemsets of size k\n",
        "        candidates = get_candidate_itemsets(frequent_itemsets, k)\n",
        "        candidate_supports = {candidate: 0 for candidate in candidates}\n",
        "\n",
        "        # Calculate support for each candidate itemset\n",
        "        for transaction in transactions:\n",
        "            for candidate in candidates:\n",
        "                if set(candidate).issubset(set(transaction)):\n",
        "                    candidate_supports[candidate] += 1\n",
        "\n",
        "        # Filter candidate itemsets to only include those that meet or exceed the minimum support\n",
        "        frequent_itemsets = {itemset: support for itemset, support in candidate_supports.items() if support >= min_support}\n",
        "        if frequent_itemsets:\n",
        "            all_frequent_itemsets.append(frequent_itemsets)\n",
        "\n",
        "    return all_frequent_itemsets\n",
        "\n",
        "# Example usage\n",
        "transactions = [\n",
        "    ['milk', 'bread', 'butter'],\n",
        "    ['bread', 'butter'],\n",
        "    ['milk', 'bread'],\n",
        "    ['milk', 'butter'],\n",
        "    ['bread', 'butter'],\n",
        "    ['milk', 'bread', 'butter']\n",
        "]\n",
        "\n",
        "min_support = 2\n",
        "frequent_itemsets = apriori(transactions, min_support)\n",
        "print(frequent_itemsets)"
      ]
    }
  ]
}